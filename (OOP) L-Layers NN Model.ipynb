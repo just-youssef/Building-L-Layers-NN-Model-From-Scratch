{
 "cells": [
  {
   "cell_type": "markdown",
   "metadata": {},
   "source": [
    "# Building `L-Layers NN Model` from Scratch (OOP)\n",
    "## by Youssef Hussein\n",
    "\n",
    "### Contact with me:\n",
    "[<img align=\"left\" width=\"35px\" style= \"padding-right: 10px\" src=\"https://cdn.jsdelivr.net/npm/simple-icons@v3/icons/linkedin.svg\" />][linkedin]\n",
    "[<img align=\"left\" width=\"35px\" style= \"padding-right: 10px\" src=\"https://cdn.jsdelivr.net/npm/simple-icons@v3/icons/upwork.svg\" />][upwork]\n",
    "[<img align=\"left\" width=\"35px\" style= \"padding-right: 10px\" src=\"https://cdn.jsdelivr.net/npm/simple-icons@v3/icons/github.svg\" />][github]\n",
    "[<img align=\"left\" width=\"35px\" style= \"padding-right: 10px\" src=\"https://cdn.jsdelivr.net/npm/simple-icons@v3/icons/facebook.svg\" />][facebook]\n",
    "\n",
    "[linkedin]: https://www.linkedin.com/in/just-youssef\n",
    "[upwork]: https://www.upwork.com/freelancers/~01bf41aeaec6f293c5\n",
    "[github]: https://github.com/just-youssef\n",
    "[facebook]: https://www.facebook.com/just.johnny99"
   ]
  },
  {
   "cell_type": "markdown",
   "metadata": {},
   "source": [
    "## Step1: import packages"
   ]
  },
  {
   "cell_type": "code",
   "execution_count": 1,
   "metadata": {},
   "outputs": [],
   "source": [
    "import numpy as np\n",
    "import matplotlib.pyplot as plt\n",
    "\n",
    "%matplotlib inline\n",
    "plt.rcParams['figure.figsize'] = (10.0, 6.0) # set default size of plots\n",
    "plt.rcParams['image.interpolation'] = 'nearest'\n",
    "plt.rcParams['image.cmap'] = 'gray'\n",
    "\n",
    "np.random.seed(5)"
   ]
  },
  {
   "cell_type": "markdown",
   "metadata": {},
   "source": [
    "## Step 2: Helper Functions"
   ]
  },
  {
   "cell_type": "code",
   "execution_count": 2,
   "metadata": {},
   "outputs": [],
   "source": [
    "# Helper functions: sigmoid\n",
    "\n",
    "def sigmoid(Z):\n",
    "    \"\"\"\n",
    "    Implements the sigmoid activation in numpy\n",
    "    \n",
    "    Arguments:\n",
    "    Z -- numpy array of any shape\n",
    "    \n",
    "    Returns:\n",
    "    A -- output of sigmoid(z), same shape as Z\n",
    "    cached_Z -- returns Z as well, useful during backpropagation\n",
    "    \"\"\"\n",
    "    \n",
    "    A = 1/(1+np.exp(-Z))\n",
    "    cached_Z = Z\n",
    "    \n",
    "    return A, cached_Z"
   ]
  },
  {
   "cell_type": "code",
   "execution_count": 3,
   "metadata": {},
   "outputs": [],
   "source": [
    "# Helper functions: relu\n",
    "\n",
    "def relu(Z):\n",
    "    \"\"\"\n",
    "    Implement the RELU function.\n",
    "\n",
    "    Arguments:\n",
    "    Z -- Output of the linear layer, of any shape\n",
    "\n",
    "    Returns:\n",
    "    A -- Post-activation parameter, of the same shape as Z\n",
    "    cached_Z -- returns Z as well, useful during backpropagation\n",
    "    \"\"\"\n",
    "    \n",
    "    A = np.maximum(0,Z)\n",
    "    cached_Z = Z\n",
    "    \n",
    "    assert(A.shape == Z.shape)\n",
    "\n",
    "    return A, cached_Z"
   ]
  },
  {
   "cell_type": "code",
   "execution_count": 4,
   "metadata": {},
   "outputs": [],
   "source": [
    "# Helper functions: sigmoid_backward\n",
    "\n",
    "def sigmoid_backward(dA, cached_Z):\n",
    "    \"\"\"\n",
    "    Implement the backward propagation for a single SIGMOID unit.\n",
    "\n",
    "    Arguments:\n",
    "    dA -- post-activation gradient, of any shape\n",
    "    cached_Z -- 'Z' where we store for computing backward propagation efficiently\n",
    "\n",
    "    Returns:\n",
    "    dZ -- Gradient of the cost with respect to Z\n",
    "    \"\"\"\n",
    "    \n",
    "    Z = cached_Z\n",
    "    \n",
    "    s = 1/(1+np.exp(-Z))\n",
    "    dZ = dA * s * (1-s)\n",
    "    \n",
    "    assert (dZ.shape == Z.shape)\n",
    "    \n",
    "    return dZ"
   ]
  },
  {
   "cell_type": "code",
   "execution_count": 5,
   "metadata": {},
   "outputs": [],
   "source": [
    "# Helper functions: relu_backward\n",
    "\n",
    "def relu_backward(dA, cached_Z):\n",
    "    \"\"\"\n",
    "    Implement the backward propagation for a single RELU unit.\n",
    "\n",
    "    Arguments:\n",
    "    dA -- post-activation gradient, of any shape\n",
    "    cached_Z -- 'Z' where we store for computing backward propagation efficiently\n",
    "\n",
    "    Returns:\n",
    "    dZ -- Gradient of the cost with respect to Z\n",
    "    \"\"\"\n",
    "    \n",
    "    Z = cached_Z\n",
    "    dZ = np.array(dA, copy=True) # just converting dz to a correct object.\n",
    "    \n",
    "    # When z <= 0, you should set dz to 0 as well. \n",
    "    dZ[Z <= 0] = 0\n",
    "    \n",
    "    assert (dZ.shape == Z.shape)\n",
    "    \n",
    "    return dZ"
   ]
  },
  {
   "cell_type": "code",
   "execution_count": 6,
   "metadata": {},
   "outputs": [],
   "source": [
    "# Helper functions: linear_forward\n",
    "\n",
    "def linear_forward(A_prev, W, b):\n",
    "    \"\"\"\n",
    "    Implement the linear part of a layer's forward propagation.\n",
    "\n",
    "    Arguments:\n",
    "    A_prev -- activations from previous layer (or input data): (size of previous layer, number of examples)\n",
    "    W -- weights matrix: numpy array of shape (size of current layer, size of previous layer)\n",
    "    b -- bias vector, numpy array of shape (size of the current layer, 1)\n",
    "\n",
    "    Returns:\n",
    "    Z -- the input of the activation function, also called pre-activation parameter \n",
    "    linear_cache -- a python tuple containing \"A\", \"W\" and \"b\" ; stored for computing the backward pass efficiently\n",
    "    \"\"\"\n",
    "\n",
    "    Z = np.dot(W, A_prev) + b\n",
    "\n",
    "    assert(Z.shape == (W.shape[0], A_prev.shape[1]))\n",
    "    linear_cache = (A_prev, W, b)\n",
    "\n",
    "    return Z, linear_cache"
   ]
  },
  {
   "cell_type": "code",
   "execution_count": 7,
   "metadata": {},
   "outputs": [],
   "source": [
    "# Helper functions: linear_activation_forward\n",
    "\n",
    "def linear_activation_forward(A_prev, W, b, activation):\n",
    "    \"\"\"\n",
    "    Implement the forward propagation for the LINEAR->ACTIVATION layer\n",
    "\n",
    "    Arguments:\n",
    "    A_prev -- activations from previous layer (or input data): (size of previous layer, number of examples)\n",
    "    W -- weights matrix: numpy array of shape (size of current layer, size of previous layer)\n",
    "    b -- bias vector, numpy array of shape (size of the current layer, 1)\n",
    "    activation -- the activation to be used in this layer, stored as a text string: \"sigmoid\" or \"relu\"\n",
    "\n",
    "    Returns:\n",
    "    A -- the output of the activation function, also called the post-activation value \n",
    "    linear_activation_cache -- a python tuple containing \"linear_cache\" and \"activation_cache\";\n",
    "                                stored for computing the backward pass efficiently\n",
    "    \"\"\"\n",
    "    Z, linear_cache = linear_forward(A_prev, W, b)\n",
    "\n",
    "    if activation == \"sigmoid\":\n",
    "        A, activation_cache = sigmoid(Z)\n",
    "    elif activation == \"relu\":\n",
    "        A, activation_cache = relu(Z)\n",
    "\n",
    "    assert (A.shape == (W.shape[0], A_prev.shape[1]))\n",
    "    linear_activation_cache = (linear_cache, activation_cache)\n",
    "\n",
    "    return A, linear_activation_cache"
   ]
  },
  {
   "cell_type": "code",
   "execution_count": 8,
   "metadata": {},
   "outputs": [],
   "source": [
    "# Helper functions: linear_backward_l2_reg\n",
    "\n",
    "def linear_backward_l2_reg(dZ, linear_cache, lambd):\n",
    "    \"\"\"\n",
    "    Implement the linear portion of backward propagation for a single layer (layer l)\n",
    "\n",
    "    Arguments:\n",
    "    dZ -- Gradient of the cost with respect to the linear output (of current layer l)\n",
    "    linear_cache -- tuple of values (A_prev, W, b) coming from the forward propagation in the current layer\n",
    "\n",
    "    Returns:\n",
    "    dA_prev -- Gradient of the cost with respect to the activation (of the previous layer l-1), same shape as A_prev\n",
    "    dW -- Gradient of the cost with respect to W (current layer l), same shape as W\n",
    "    db -- Gradient of the cost with respect to b (current layer l), same shape as b\n",
    "    \"\"\"\n",
    "    A_prev, W, b = linear_cache\n",
    "    m = A_prev.shape[1]\n",
    "\n",
    "    dW = 1/m * np.dot(dZ, A_prev.T) + (lambd/m)*W\n",
    "    db = 1/m * np.sum(dZ, axis=1, keepdims=True)\n",
    "    dA_prev = np.dot(W.T, dZ)\n",
    "    \n",
    "    assert (dA_prev.shape == A_prev.shape)\n",
    "    assert (dW.shape == W.shape)\n",
    "    assert (db.shape == b.shape)\n",
    "    \n",
    "    return dA_prev, dW, db"
   ]
  },
  {
   "cell_type": "code",
   "execution_count": 9,
   "metadata": {},
   "outputs": [],
   "source": [
    "# Helper functions: linear_activation_backward_l2_reg\n",
    "\n",
    "def linear_activation_backward_l2_reg(dA, linear_activation_cache, activation, lambd):\n",
    "    \"\"\"\n",
    "    Implement the backward propagation for the LINEAR->ACTIVATION layer.\n",
    "    \n",
    "    Arguments:\n",
    "    dA -- post-activation gradient for current layer l \n",
    "    linear_activation_cache -- tuple of values (linear_cache, activation_cache) we store for computing backward propagation efficiently\n",
    "    activation -- the activation to be used in this layer, stored as a text string: \"sigmoid\" or \"relu\"\n",
    "    \n",
    "    Returns:\n",
    "    dA_prev -- Gradient of the cost with respect to the activation (of the previous layer l-1), same shape as A_prev\n",
    "    dW -- Gradient of the cost with respect to W (current layer l), same shape as W\n",
    "    db -- Gradient of the cost with respect to b (current layer l), same shape as b\n",
    "    \"\"\"\n",
    "    linear_cache, activation_cache = linear_activation_cache\n",
    "    \n",
    "    if activation == \"relu\":\n",
    "        dZ = relu_backward(dA, activation_cache)\n",
    "    elif activation == \"sigmoid\":\n",
    "        dZ = sigmoid_backward(dA, activation_cache)\n",
    "        \n",
    "    dA_prev, dW, db = linear_backward_l2_reg(dZ, linear_cache, lambd)\n",
    "    \n",
    "    return dA_prev, dW, db"
   ]
  },
  {
   "cell_type": "markdown",
   "metadata": {},
   "source": [
    "**Notes**:\n",
    "1. `NN_model` computes the cross-entropy cost $J$, using the following formula: $$-\\frac{1}{m} \\sum\\limits_{i = 1}^{m} (y^{(i)}\\log\\left(a^{[L] (i)}\\right) + (1-y^{(i)})\\log\\left(1- a^{[L](i)}\\right)) \\tag{1}$$\n",
    "\n",
    "2. The standard way to avoid overfitting is called **L2 regularization**. It consists of appropriately modifying your cost function, from:\n",
    "$$J = -\\frac{1}{m} \\sum\\limits_{i = 1}^{m} \\large{(}\\small  y^{(i)}\\log\\left(a^{[L](i)}\\right) + (1-y^{(i)})\\log\\left(1- a^{[L](i)}\\right) \\large{)} \\tag{1}$$\n",
    "To:\n",
    "$$J_{regularized} = \\small \\underbrace{-\\frac{1}{m} \\sum\\limits_{i = 1}^{m} \\large{(}\\small y^{(i)}\\log\\left(a^{[L](i)}\\right) + (1-y^{(i)})\\log\\left(1- a^{[L](i)}\\right) \\large{)} }_\\text{cross-entropy cost} + \\underbrace{\\frac{1}{m} \\frac{\\lambda}{2} \\sum\\limits_l\\sum\\limits_k\\sum\\limits_j W_{k,j}^{[l]2} }_\\text{L2 regularization cost} \\tag{2}$$\n",
    "\n",
    "3. Recall the general update rule for `adam` is, for $l = 1, ..., L$: \n",
    "$$\\begin{cases}\n",
    "v_{W^{[l]}} = \\beta_1 v_{W^{[l]}} + (1 - \\beta_1) \\frac{\\partial J }{ \\partial W^{[l]} } \\\\\n",
    "v^{corrected}_{W^{[l]}} = \\frac{v_{W^{[l]}}}{1 - (\\beta_1)^t} \\\\\n",
    "s_{W^{[l]}} = \\beta_2 s_{W^{[l]}} + (1 - \\beta_2) (\\frac{\\partial J }{\\partial W^{[l]} })^2 \\\\\n",
    "s^{corrected}_{W^{[l]}} = \\frac{s_{W^{[l]}}}{1 - (\\beta_2)^t} \\\\\n",
    "W^{[l]} = W^{[l]} - \\alpha \\frac{v^{corrected}_{W^{[l]}}}{\\sqrt{s^{corrected}_{W^{[l]}}}+\\varepsilon}\n",
    "\\end{cases}$$"
   ]
  },
  {
   "cell_type": "markdown",
   "metadata": {},
   "source": [
    "## Step 3: `NN_model`"
   ]
  },
  {
   "cell_type": "code",
   "execution_count": 10,
   "metadata": {},
   "outputs": [],
   "source": [
    "class NN_model:\n",
    "    \n",
    "    def __init__(model, layers_dims, learning_rate = 0.0007, mini_batch_size = 64,\n",
    "                 beta1 = 0.9,beta2 = 0.999,  epsilon = 1e-8, num_epochs = 10000, lambd = 0):\n",
    "        \"\"\"\n",
    "        Initializes all attributes (parameters/hyperparameters) of the model.\n",
    "        \"\"\"\n",
    "        model.layers_dims = layers_dims\n",
    "        model.learning_rate = learning_rate\n",
    "        model.mini_batch_size = mini_batch_size\n",
    "        model.beta1 = beta1\n",
    "        model.beta2 = beta2\n",
    "        model.epsilon = epsilon\n",
    "        model.num_epochs = num_epochs\n",
    "        model.lambd = lambd\n",
    "        \n",
    "        # Parameters initialization\n",
    "        model.parameters = model.initialize_parameters_he()\n",
    "        model.v, model.s = model.initialize_adam()\n",
    "    \n",
    "    \n",
    "    \n",
    "    def initialize_parameters_he(model):\n",
    "        \"\"\"\n",
    "        Initializes parameters of the model as a python dictionary.\n",
    "        \n",
    "        Returns:\n",
    "        parameters -- python dictionary containing your parameters \"W1\", \"b1\", ..., \"WL\", \"bL\":\n",
    "                        Wl -- weight matrix of shape (layer_dims[l], layer_dims[l-1])\n",
    "                        bl -- bias vector of shape (layer_dims[l], 1)\n",
    "        \"\"\"\n",
    "\n",
    "        parameters = {}\n",
    "        L = len(model.layers_dims)-1 # integer representing the number of layers\n",
    "\n",
    "        for l in range(1, L+1):\n",
    "            he_term =  np.sqrt(2/model.layers_dims[l-1]) #He initialization\n",
    "            parameters[f'W{l}'] = np.random.randn(model.layers_dims[l], model.layers_dims[l-1]) * he_term\n",
    "            parameters[f'b{l}'] = np.zeros((model.layers_dims[l], 1))\n",
    "\n",
    "            assert(parameters[f'W{l}'].shape == (model.layers_dims[l], model.layers_dims[l-1]))\n",
    "            assert(parameters[f'b{l}'].shape == (model.layers_dims[l], 1))\n",
    "\n",
    "        return parameters\n",
    "    \n",
    "    \n",
    "    \n",
    "    def initialize_adam(model):\n",
    "        \"\"\"\n",
    "        Initializes v and s as two python dictionaries with:\n",
    "                    - keys: \"dW1\", \"db1\", ..., \"dWL\", \"dbL\" \n",
    "                    - values: numpy arrays of zeros of the same shape as the corresponding gradients/parameters.\n",
    "\n",
    "        Returns: \n",
    "        v -- python dictionary that will contain the exponentially weighted average of the gradient.\n",
    "                        v[f'dW{l}'] = ...\n",
    "                        v[f'db{l}'] = ...\n",
    "        s -- python dictionary that will contain the exponentially weighted average of the squared gradient.\n",
    "                        s[f'dW{l}'] = ...\n",
    "                        s[f'db{l}'] = ...\n",
    "        \"\"\"\n",
    "\n",
    "        L = len(model.parameters) // 2 # number of layers in the neural networks\n",
    "        v = {}\n",
    "        s = {}\n",
    "\n",
    "        # Initialize v, s\n",
    "        for l in range(1, L+1):\n",
    "            v[f'dW{l}'] = np.zeros([model.parameters[f'W{l}'].shape[0], model.parameters[f'W{l}'].shape[1]])\n",
    "            v[f'db{l}'] = np.zeros([model.parameters[f'b{l}'].shape[0], model.parameters[f'b{l}'].shape[1]])\n",
    "            s[f'dW{l}'] = np.zeros([model.parameters[f'W{l}'].shape[0], model.parameters[f'W{l}'].shape[1]])\n",
    "            s[f'db{l}'] = np.zeros([model.parameters[f'b{l}'].shape[0], model.parameters[f'b{l}'].shape[1]])\n",
    "\n",
    "        return v, s\n",
    "\n",
    "    \n",
    "    \n",
    "    def random_mini_batches(model, X, Y):\n",
    "        \"\"\"\n",
    "        Creates a list of random minibatches from (X, Y)\n",
    "\n",
    "        Arguments:\n",
    "        X -- input data, of shape (input size, number of examples)\n",
    "        Y -- true \"label\" vector (1 for blue dot / 0 for red dot), of shape (1, number of examples)\n",
    "\n",
    "        Returns:\n",
    "        mini_batches -- list of synchronous (mini_batch_X, mini_batch_Y)\n",
    "        \"\"\"\n",
    "\n",
    "        m = X.shape[1]                  # number of training examples\n",
    "        mini_batches = []\n",
    "\n",
    "        # Step 1: Shuffle (X, Y)\n",
    "        permutation = list(np.random.permutation(m))\n",
    "        shuffled_X = X[:, permutation]\n",
    "        shuffled_Y = Y[:, permutation].reshape((1,m))\n",
    "\n",
    "        # Step 2: Partition (shuffled_X, shuffled_Y). Minus the end case.\n",
    "        num_complete_minibatches = int(m/model.mini_batch_size) # number of mini batches of size mini_batch_size in your partitionning\n",
    "        for k in range(0, num_complete_minibatches):\n",
    "            mini_batch_X = shuffled_X[:, k*model.mini_batch_size: (k+1)*model.mini_batch_size]\n",
    "            mini_batch_Y = shuffled_Y[:, k*model.mini_batch_size: (k+1)*model.mini_batch_size].reshape((1,model.mini_batch_size))\n",
    "            mini_batch = (mini_batch_X, mini_batch_Y)\n",
    "            mini_batches.append(mini_batch)\n",
    "\n",
    "        # Handling the end case (last mini-batch < mini_batch_size)\n",
    "        if m % model.mini_batch_size != 0:\n",
    "            mini_batch_X = shuffled_X[:, num_complete_minibatches*model.mini_batch_size:]\n",
    "            mini_batch_Y = shuffled_Y[:, num_complete_minibatches*model.mini_batch_size:]\n",
    "            mini_batch = (mini_batch_X, mini_batch_Y)\n",
    "            mini_batches.append(mini_batch)\n",
    "\n",
    "        return mini_batches\n",
    "    \n",
    "    \n",
    "    \n",
    "    def L_model_forward(model, X):\n",
    "        \"\"\"\n",
    "        Implement forward propagation for the [LINEAR->RELU]*(L-1)->LINEAR->SIGMOID computation\n",
    "\n",
    "        Arguments:\n",
    "        X -- data, numpy array of shape (input size, number of examples)\n",
    "\n",
    "        Returns:\n",
    "        AL -- last post-activation value\n",
    "        L_model_caches -- list of caches containing:\n",
    "                            every linear_activation_cache (there are L of them, indexed from 0 to L-1)\n",
    "        \"\"\"\n",
    "\n",
    "        L_model_caches = []\n",
    "        A = X\n",
    "        L = len(model.parameters) // 2                  # number of layers in the neural network\n",
    "\n",
    "        # Implement [LINEAR -> RELU]*(L-1). Add \"cache\" to the \"caches\" list.\n",
    "        for l in range(1, L):\n",
    "            A_prev = A \n",
    "            A, linear_activation_cache = linear_activation_forward(A_prev, model.parameters[f'W{l}'], \n",
    "                                                                   model.parameters[f'b{l}'], 'relu')\n",
    "            L_model_caches.append(linear_activation_cache)\n",
    "\n",
    "        # Implement LINEAR -> SIGMOID. Add \"cache\" to the \"caches\" list.\n",
    "        AL, linear_activation_cache = linear_activation_forward(A, model.parameters[f'W{L}'], \n",
    "                                                                model.parameters[f'b{L}'], 'sigmoid')\n",
    "        L_model_caches.append(linear_activation_cache)\n",
    "\n",
    "        assert(AL.shape == (model.parameters[f'W{L}'].shape[0], X.shape[1]))\n",
    "\n",
    "        return AL, L_model_caches\n",
    "    \n",
    "    \n",
    "    \n",
    "    def compute_cost_l2_reg(model, AL, Y):\n",
    "        \"\"\"\n",
    "        Implement the cost function defined by equation (1).\n",
    "\n",
    "        Arguments:\n",
    "        AL -- probability vector corresponding to your label predictions, shape (1, number of examples)\n",
    "        Y -- true \"label\" vector (for example: containing 0 if non-cat, 1 if cat), shape (1, number of examples)\n",
    "\n",
    "        Returns:\n",
    "        cost -- cross-entropy cost + L2_regularization_cost\n",
    "        \"\"\"\n",
    "        m = Y.shape[1]\n",
    "        L = len(model.parameters) // 2 # number of layers in the neural network\n",
    "        Wl_sum_squares = 0\n",
    "\n",
    "        cross_entropy_cost = -1/m * np.sum(np.dot(Y, np.log(AL).T) + np.dot((1-Y), np.log(1-AL).T))\n",
    "\n",
    "        for l in range(1, L+1):\n",
    "            Wl_sum_squares += np.sum(np.square(model.parameters[f'W{l}']))\n",
    "\n",
    "        L2_regularization_cost = model.lambd/(2*m) * Wl_sum_squares\n",
    "\n",
    "        cost = cross_entropy_cost + L2_regularization_cost\n",
    "\n",
    "        cost = np.squeeze(cost)      # To make sure your cost's shape is what we expect (e.g. this turns [[17]] into 17).\n",
    "        assert(cost.shape == ())\n",
    "\n",
    "        return cost\n",
    "\n",
    "    \n",
    "    \n",
    "    def L_model_backward_l2_reg(model, AL, Y, L_model_caches):\n",
    "        \"\"\"\n",
    "        Implement the backward propagation for the [LINEAR->RELU] * (L-1) -> LINEAR -> SIGMOID group\n",
    "\n",
    "        Arguments:\n",
    "        AL -- probability vector, output of the forward propagation (L_model_forward())\n",
    "        Y -- true \"label\" vector (containing 0 if non-cat, 1 if cat)\n",
    "        L_model_caches -- list of caches containing:\n",
    "                    every linear_activation_cache with \"relu\" (it's caches[l], for l in range(L-1) i.e l = 0...L-2)\n",
    "                    the linear_activation_cache with \"sigmoid\" (it's caches[L-1])\n",
    "\n",
    "        Returns:\n",
    "        grads -- A dictionary with the gradients\n",
    "                 grads[f'dA{l}'] = ... \n",
    "                 grads[f'dW{l}'] = ...\n",
    "                 grads[f'db{l}'] = ... \n",
    "        \"\"\"\n",
    "        grads = {}\n",
    "        L_model_caches = dict(enumerate(L_model_caches, 1))\n",
    "        L = len(L_model_caches) # the number of layers\n",
    "        m = AL.shape[1]\n",
    "        Y = Y.reshape(AL.shape) # after this line, Y is the same shape as AL\n",
    "\n",
    "        # Initializing the backpropagation\n",
    "        dAL = - (np.divide(Y, AL) - np.divide(1 - Y, 1 - AL)) # derivative of cost with respect to AL\n",
    "\n",
    "        # Lth layer (SIGMOID -> LINEAR) gradients.\n",
    "        dA_prev, dW, db = linear_activation_backward_l2_reg(dAL, L_model_caches[L], \"sigmoid\", model.lambd)\n",
    "        grads[f'dA{L-1}'], grads[f'dW{L}'], grads[f'db{L}'] = dA_prev, dW, db\n",
    "\n",
    "        # Loop from l=L-1 to l=1\n",
    "        for l in range(L-1, 0, -1):\n",
    "            # lth layer: (RELU -> LINEAR) gradients.\n",
    "            dA_prev, dW, db = linear_activation_backward_l2_reg(dA_prev, L_model_caches[l],\"relu\", model.lambd)\n",
    "            grads[f'dA{l-1}'], grads[f'dW{l}'], grads[f'db{l}'] = dA_prev, dW, db\n",
    "\n",
    "        return grads\n",
    "    \n",
    "    \n",
    "    \n",
    "    def update_parameters_with_adam(model, grads, t):\n",
    "        \"\"\"\n",
    "        Update parameters using Adam\n",
    "\n",
    "        Arguments:\n",
    "        grads -- python dictionary containing your gradients for each parameters\n",
    "        t -- adam counter\n",
    "        \"\"\"\n",
    "\n",
    "        L = len(model.parameters) // 2                 # number of layers in the neural networks\n",
    "        v_corrected = {}                         # Initializing first moment estimate, python dictionary\n",
    "        s_corrected = {}                         # Initializing second moment estimate, python dictionary\n",
    "\n",
    "        # Perform Adam update on all parameters\n",
    "        for l in range(1, L+1):\n",
    "            # Moving average of the gradients. Inputs: \"v, grads, beta1\". Output: \"v\".\n",
    "            model.v[f\"dW{l}\"] = model.beta1*model.v[f\"dW{l}\"] + (1-model.beta1)*grads[f\"dW{l}\"]\n",
    "            model.v[f\"db{l}\"] = model.beta1*model.v[f\"db{l}\"] + (1-model.beta1)*grads[f\"db{l}\"]\n",
    "\n",
    "            # Compute bias-corrected first moment estimate. Inputs: \"v, beta1, t\". Output: \"v_corrected\".\n",
    "            v_corrected[f\"dW{l}\"] = model.v[f\"dW{l}\"] / (1-model.beta1**t)\n",
    "            v_corrected[f\"db{l}\"] = model.v[f\"db{l}\"] / (1-model.beta1**t)\n",
    "\n",
    "            # Moving average of the squared gradients. Inputs: \"s, grads, beta2\". Output: \"s\".\n",
    "            model.s[f\"dW{l}\"] = model.beta2*model.s[f\"dW{l}\"] + (1-model.beta2)*np.square(grads[f\"dW{l}\"])\n",
    "            model.s[f\"db{l}\"] = model.beta2*model.s[f\"db{l}\"] + (1-model.beta2)*np.square(grads[f\"db{l}\"])\n",
    "\n",
    "            # Compute bias-corrected second raw moment estimate. Inputs: \"s, beta2, t\". Output: \"s_corrected\".\n",
    "            s_corrected[f\"dW{l}\"] = model.s[f\"dW{l}\"] / (1-model.beta2**t)\n",
    "            s_corrected[f\"db{l}\"] = model.s[f\"db{l}\"] / (1-model.beta2**t)\n",
    "\n",
    "            # Update parameters. Inputs: \"parameters, learning_rate, v_corrected, s_corrected, epsilon\". Output: \"parameters\".\n",
    "            model.parameters[f\"W{l}\"] -= model.learning_rate * v_corrected[f\"dW{l}\"] / (np.sqrt(s_corrected[f\"dW{l}\"]) + model.epsilon)\n",
    "            model.parameters[f\"b{l}\"] -= model.learning_rate * v_corrected[f\"db{l}\"] / (np.sqrt(s_corrected[f\"db{l}\"]) + model.epsilon)\n",
    "    \n",
    "    \n",
    "    \n",
    "    def fit_with_adam(model, X, Y, print_cost = True):\n",
    "        \"\"\"\n",
    "        Fits a L-layer neural network: [LINEAR->RELU]*(L-1)->LINEAR->SIGMOID.\n",
    "\n",
    "        Arguments:\n",
    "        X -- data, numpy array of shape (num_px * num_px * 3, number of examples)\n",
    "        Y -- true \"label\" vector (containing 0 if cat, 1 if non-cat), of shape (1, number of examples)\n",
    "        print_cost -- if True, it prints the cost every 100 steps\n",
    "\n",
    "        Returns:\n",
    "        parameters -- parameters learnt by the model. They can then be used to predict.\n",
    "        \"\"\"\n",
    "\n",
    "        L = len(model.layers_dims)       # number of layers in the neural networks\n",
    "        costs = []                       # to keep track of the cost\n",
    "        t = 0                            # initializing the counter required for Adam update\n",
    "        seed = 10                        # For grading purposes, so that your \"random\" minibatches are the same as ours\n",
    "        m = X.shape[1]                   # number of training examples\n",
    "\n",
    "        # Optimization loop\n",
    "        for i in range(model.num_epochs):\n",
    "\n",
    "            # Define the random minibatches. We increment the seed to reshuffle differently the dataset after each epoch\n",
    "            seed = seed + 1\n",
    "            minibatches = model.random_mini_batches(X, Y)\n",
    "            cost_total = 0\n",
    "\n",
    "            for minibatch in minibatches:\n",
    "\n",
    "                # Select a minibatch\n",
    "                (minibatch_X, minibatch_Y) = minibatch\n",
    "\n",
    "                # Forward propagation: [LINEAR -> RELU]*(L-1) -> LINEAR -> SIGMOID.\n",
    "                AL, L_model_caches = model.L_model_forward(minibatch_X)\n",
    "\n",
    "                # Compute cost.\n",
    "                cost_total += model.compute_cost_l2_reg(AL, minibatch_Y)\n",
    "\n",
    "                # Backward propagation.\n",
    "                grads = model.L_model_backward_l2_reg(AL, minibatch_Y, L_model_caches)\n",
    "\n",
    "                # Update parameters with adam\n",
    "                t += 1 # Adam counter\n",
    "                parameters = model.update_parameters_with_adam(grads, t)\n",
    "                \n",
    "            cost_avg = cost_total / m\n",
    "\n",
    "            # Print the cost every 1000 epoch\n",
    "            if print_cost and i % 100 == 0:\n",
    "                print (\"Cost after epoch %i: %f\" %(i, cost_avg))\n",
    "                costs.append(cost_avg)\n",
    "\n",
    "        # plot the cost\n",
    "        plt.plot(costs)\n",
    "        plt.ylabel('cost')\n",
    "        plt.xlabel('epochs (per 100)')\n",
    "        plt.title(f\"Learning rate = {model.learning_rate}\")\n",
    "        plt.show()\n",
    "\n",
    "        return parameters\n",
    "    \n",
    "    \n",
    "    \n",
    "    def predict(model, X, Y=None, acc=False):\n",
    "        \"\"\"\n",
    "        This function is used to predict the results of a  L-layer neural network.\n",
    "\n",
    "        Arguments:\n",
    "        X, Y -- data set of examples you would like to label\n",
    "        parameters -- parameters of the trained model\n",
    "\n",
    "        Returns:\n",
    "        Yhat -- predictions for the given dataset X\n",
    "        \"\"\"\n",
    "\n",
    "        # Forward propagation\n",
    "        probs, L_model_caches = model.L_model_forward(X)\n",
    "\n",
    "        # convert probs to 0/1 predictions (Yhat)\n",
    "        Yhat = np.array(probs > 0.5).reshape(probs.shape)\n",
    "        \n",
    "        if (Y != None).all() and acc:\n",
    "            assert(Yhat.shape == Y.shape)\n",
    "            \n",
    "            accuracy = np.mean(Yhat == Y)\n",
    "            print(f\"Accuracy: {accuracy}\")\n",
    "            \n",
    "            return Yhat, accuracy\n",
    "        \n",
    "        return Yhat"
   ]
  },
  {
   "cell_type": "markdown",
   "metadata": {},
   "source": [
    "## Step 4: `load_dataset`"
   ]
  },
  {
   "cell_type": "code",
   "execution_count": 11,
   "metadata": {},
   "outputs": [],
   "source": [
    "# Step 4.1: implement load_dataset\n",
    "\n",
    "import sklearn.datasets\n",
    "\n",
    "def load_dataset():\n",
    "    train_X, train_Y = sklearn.datasets.make_moons(n_samples=300, noise=.2)\n",
    "    test_X, test_Y = sklearn.datasets.make_moons(n_samples=100, noise=.2)\n",
    "    \n",
    "    train_X = train_X.T\n",
    "    train_Y = train_Y.reshape((1, train_Y.shape[0]))\n",
    "    \n",
    "    test_X = test_X.T\n",
    "    test_Y = test_Y.reshape((1, test_Y.shape[0]))\n",
    "    \n",
    "    # Visualize the data\n",
    "    plt.scatter(train_X[0, :], train_X[1, :], c=train_Y, s=40, cmap=plt.cm.Spectral);\n",
    "    \n",
    "    return train_X, train_Y, test_X, test_Y"
   ]
  },
  {
   "cell_type": "code",
   "execution_count": 12,
   "metadata": {},
   "outputs": [
    {
     "data": {
      "image/png": "[encoded data removed]",
      "text/plain": [
       "<Figure size 720x432 with 1 Axes>"
      ]
     },
     "metadata": {
      "needs_background": "light"
     },
     "output_type": "display_data"
    }
   ],
   "source": [
    "# Step 4.2: call load_dataset\n",
    "\n",
    "train_X, train_Y, test_X, test_Y = load_dataset()"
   ]
  },
  {
   "cell_type": "markdown",
   "metadata": {},
   "source": [
    "## Step 5: `NN_model` TEST1"
   ]
  },
  {
   "cell_type": "code",
   "execution_count": 13,
   "metadata": {},
   "outputs": [
    {
     "name": "stdout",
     "output_type": "stream",
     "text": [
      "Cost after epoch 0: 0.011183\n",
      "Cost after epoch 100: 0.001519\n",
      "Cost after epoch 200: 0.001206\n",
      "Cost after epoch 300: 0.001242\n",
      "Cost after epoch 400: 0.001046\n",
      "Cost after epoch 500: 0.001036\n",
      "Cost after epoch 600: 0.001014\n",
      "Cost after epoch 700: 0.001071\n",
      "Cost after epoch 800: 0.001056\n",
      "Cost after epoch 900: 0.001014\n"
     ]
    },
    {
     "data": {
      "image/png": "[encoded data removed]",
      "text/plain": [
       "<Figure size 720x432 with 1 Axes>"
      ]
     },
     "metadata": {
      "needs_background": "light"
     },
     "output_type": "display_data"
    }
   ],
   "source": [
    "# CONSTANTS of a 4-layer model\n",
    "n_x = train_X.shape[0]\n",
    "n_h1 = 15\n",
    "n_h2 = 7\n",
    "n_h3 = 3\n",
    "n_o = test_Y.shape[0]\n",
    "\n",
    "layers_dims = [n_x, n_h1, n_h2, n_h3, n_o]\n",
    "\n",
    "test_model = NN_model(layers_dims, learning_rate = 0.0075, mini_batch_size = 64, num_epochs = 1000, lambd = 0.1)\n",
    "test_model.fit_with_adam(train_X, train_Y)"
   ]
  },
  {
   "cell_type": "code",
   "execution_count": 14,
   "metadata": {},
   "outputs": [
    {
     "name": "stdout",
     "output_type": "stream",
     "text": [
      "Accuracy: 0.9933333333333333\n"
     ]
    }
   ],
   "source": [
    "# Training Accuracy\n",
    "pred_train, train_accuracy = test_model.predict(train_X, train_Y, acc=True)"
   ]
  },
  {
   "cell_type": "code",
   "execution_count": 15,
   "metadata": {},
   "outputs": [
    {
     "name": "stdout",
     "output_type": "stream",
     "text": [
      "Accuracy: 0.98\n"
     ]
    }
   ],
   "source": [
    "# Test Accuracy\n",
    "pred_test, test_accuracy = test_model.predict(test_X, test_Y, acc=True)"
   ]
  },
  {
   "cell_type": "markdown",
   "metadata": {},
   "source": [
    "## Step 6: `load_2D_dataset`"
   ]
  },
  {
   "cell_type": "code",
   "execution_count": 16,
   "metadata": {},
   "outputs": [],
   "source": [
    "# Step 6.1: implement load_2D_dataset\n",
    "\n",
    "import scipy.io\n",
    "\n",
    "def load_2D_dataset():\n",
    "    data = scipy.io.loadmat('datasets/data.mat')\n",
    "    train_X = data['X'].T\n",
    "    train_Y = data['y'].T\n",
    "    test_X = data['Xval'].T\n",
    "    test_Y = data['yval'].T\n",
    "\n",
    "    plt.scatter(train_X[0, :], train_X[1, :], c=train_Y, s=40, cmap=plt.cm.Spectral);\n",
    "    \n",
    "    return train_X, train_Y, test_X, test_Y"
   ]
  },
  {
   "cell_type": "code",
   "execution_count": 17,
   "metadata": {},
   "outputs": [
    {
     "data": {
      "image/png": "[encoded data removed]",
      "text/plain": [
       "<Figure size 720x432 with 1 Axes>"
      ]
     },
     "metadata": {
      "needs_background": "light"
     },
     "output_type": "display_data"
    }
   ],
   "source": [
    "# Step 6.2: call load_2D_dataset\n",
    "\n",
    "train_X, train_Y, test_X, test_Y = load_2D_dataset()"
   ]
  },
  {
   "cell_type": "markdown",
   "metadata": {},
   "source": [
    "## Step 7: `NN_model` TEST2"
   ]
  },
  {
   "cell_type": "code",
   "execution_count": 18,
   "metadata": {},
   "outputs": [
    {
     "name": "stdout",
     "output_type": "stream",
     "text": [
      "Cost after epoch 0: 0.014257\n",
      "Cost after epoch 100: 0.004758\n",
      "Cost after epoch 200: 0.004839\n",
      "Cost after epoch 300: 0.005051\n",
      "Cost after epoch 400: 0.004832\n",
      "Cost after epoch 500: 0.004950\n",
      "Cost after epoch 600: 0.004460\n",
      "Cost after epoch 700: 0.004746\n",
      "Cost after epoch 800: 0.004335\n",
      "Cost after epoch 900: 0.004213\n"
     ]
    },
    {
     "data": {
      "image/png": "[encoded data removed]",
      "text/plain": [
       "<Figure size 720x432 with 1 Axes>"
      ]
     },
     "metadata": {
      "needs_background": "light"
     },
     "output_type": "display_data"
    }
   ],
   "source": [
    "# CONSTANTS of a 4-layer model\n",
    "n_x = train_X.shape[0]\n",
    "n_h1 = 15\n",
    "n_h2 = 7\n",
    "n_h3 = 3\n",
    "n_o = test_Y.shape[0]\n",
    "\n",
    "layers_dims = [n_x, n_h1, n_h2, n_h3, n_o]\n",
    "\n",
    "test_model = NN_model(layers_dims, learning_rate = 0.0075, mini_batch_size = 64, num_epochs = 1000, lambd = 0.1)\n",
    "test_model.fit_with_adam(train_X, train_Y)"
   ]
  },
  {
   "cell_type": "code",
   "execution_count": 19,
   "metadata": {},
   "outputs": [
    {
     "name": "stdout",
     "output_type": "stream",
     "text": [
      "Accuracy: 0.943127962085308\n"
     ]
    }
   ],
   "source": [
    "# Training Accuracy\n",
    "pred_train, train_accuracy = test_model.predict(train_X, train_Y, acc=True)"
   ]
  },
  {
   "cell_type": "code",
   "execution_count": 20,
   "metadata": {},
   "outputs": [
    {
     "name": "stdout",
     "output_type": "stream",
     "text": [
      "Accuracy: 0.935\n"
     ]
    }
   ],
   "source": [
    "# Test Accuracy\n",
    "pred_test, test_accuracy = test_model.predict(test_X, test_Y, acc=True)"
   ]
  }
 ],
 "metadata": {
  "kernelspec": {
   "display_name": "Python 3",
   "language": "python",
   "name": "python3"
  },
  "language_info": {
   "codemirror_mode": {
    "name": "ipython",
    "version": 3
   },
   "file_extension": ".py",
   "mimetype": "text/x-python",
   "name": "python",
   "nbconvert_exporter": "python",
   "pygments_lexer": "ipython3",
   "version": "3.8.5"
  }
 },
 "nbformat": 4,
 "nbformat_minor": 4
}
